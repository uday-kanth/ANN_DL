{
 "cells": [
  {
   "cell_type": "code",
   "execution_count": 12,
   "metadata": {},
   "outputs": [],
   "source": [
    "import tensorflow as tf"
   ]
  },
  {
   "cell_type": "code",
   "execution_count": 13,
   "metadata": {},
   "outputs": [
    {
     "data": {
      "text/plain": [
       "<tf.Tensor: shape=(2, 784), dtype=float32, numpy=\n",
       "array([[ 0.5215265 , -1.9604266 , -0.7623712 , ..., -0.71939707,\n",
       "         1.2883942 , -0.9723802 ],\n",
       "       [-0.29726577, -0.4366185 ,  0.18908358, ..., -1.0543019 ,\n",
       "         1.0572544 ,  1.0273591 ]], dtype=float32)>"
      ]
     },
     "execution_count": 13,
     "metadata": {},
     "output_type": "execute_result"
    }
   ],
   "source": [
    "x = tf.random.normal([2,784])\n",
    "x"
   ]
  },
  {
   "cell_type": "code",
   "execution_count": 14,
   "metadata": {},
   "outputs": [
    {
     "data": {
      "text/plain": [
       "<tf.Variable 'Variable:0' shape=(784, 300) dtype=float32, numpy=\n",
       "array([[ 0.13725856, -0.04653733, -0.02553349, ...,  0.09683289,\n",
       "        -0.1020085 ,  0.05068262],\n",
       "       [ 0.05190977,  0.08354877,  0.10782357, ..., -0.01236802,\n",
       "         0.18421899, -0.084236  ],\n",
       "       [-0.00403175, -0.01174863,  0.00795815, ...,  0.14351492,\n",
       "         0.03614243, -0.01334924],\n",
       "       ...,\n",
       "       [-0.1922083 , -0.01820664, -0.15796916, ...,  0.03729482,\n",
       "         0.1436742 ,  0.06987461],\n",
       "       [-0.09304549,  0.12405498,  0.04349183, ...,  0.13284843,\n",
       "        -0.0843494 , -0.09817583],\n",
       "       [-0.19656272, -0.17807578, -0.00450751, ..., -0.12611865,\n",
       "         0.00923108,  0.03635057]], dtype=float32)>"
      ]
     },
     "execution_count": 14,
     "metadata": {},
     "output_type": "execute_result"
    }
   ],
   "source": [
    "w1 = tf.Variable(tf.random.truncated_normal([784, 256],stddev=0.1))\n",
    "w1"
   ]
  },
  {
   "cell_type": "code",
   "execution_count": 15,
   "metadata": {},
   "outputs": [],
   "source": [
    "b1 = tf.Variable(tf.zeros([256]))"
   ]
  },
  {
   "cell_type": "code",
   "execution_count": null,
   "metadata": {},
   "outputs": [],
   "source": []
  }
 ],
 "metadata": {
  "kernelspec": {
   "display_name": "Python 3",
   "language": "python",
   "name": "python3"
  },
  "language_info": {
   "codemirror_mode": {
    "name": "ipython",
    "version": 3
   },
   "file_extension": ".py",
   "mimetype": "text/x-python",
   "name": "python",
   "nbconvert_exporter": "python",
   "pygments_lexer": "ipython3",
   "version": "3.10.6"
  },
  "orig_nbformat": 4,
  "vscode": {
   "interpreter": {
    "hash": "26de051ba29f2982a8de78e945f0abaf191376122a1563185a90213a26c5da77"
   }
  }
 },
 "nbformat": 4,
 "nbformat_minor": 2
}
